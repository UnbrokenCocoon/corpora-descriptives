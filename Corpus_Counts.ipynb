{
  "nbformat": 4,
  "nbformat_minor": 0,
  "metadata": {
    "colab": {
      "provenance": []
    },
    "kernelspec": {
      "name": "python3",
      "display_name": "Python 3"
    },
    "language_info": {
      "name": "python"
    }
  },
  "cells": [
    {
      "cell_type": "code",
      "source": [
        "!pip install nltk sklearn"
      ],
      "metadata": {
        "colab": {
          "base_uri": "https://localhost:8080/"
        },
        "id": "t3gJclHeM6o9",
        "outputId": "dc7ec2d5-7992-45d6-c235-3c9218436c27"
      },
      "execution_count": 58,
      "outputs": [
        {
          "output_type": "stream",
          "name": "stdout",
          "text": [
            "Requirement already satisfied: nltk in /usr/local/lib/python3.11/dist-packages (3.9.1)\n",
            "Collecting sklearn\n",
            "  Downloading sklearn-0.0.post12.tar.gz (2.6 kB)\n",
            "  \u001b[1;31merror\u001b[0m: \u001b[1msubprocess-exited-with-error\u001b[0m\n",
            "  \n",
            "  \u001b[31m×\u001b[0m \u001b[32mpython setup.py egg_info\u001b[0m did not run successfully.\n",
            "  \u001b[31m│\u001b[0m exit code: \u001b[1;36m1\u001b[0m\n",
            "  \u001b[31m╰─>\u001b[0m See above for output.\n",
            "  \n",
            "  \u001b[1;35mnote\u001b[0m: This error originates from a subprocess, and is likely not a problem with pip.\n",
            "  Preparing metadata (setup.py) ... \u001b[?25l\u001b[?25herror\n",
            "\u001b[1;31merror\u001b[0m: \u001b[1mmetadata-generation-failed\u001b[0m\n",
            "\n",
            "\u001b[31m×\u001b[0m Encountered error while generating package metadata.\n",
            "\u001b[31m╰─>\u001b[0m See above for output.\n",
            "\n",
            "\u001b[1;35mnote\u001b[0m: This is an issue with the package mentioned above, not pip.\n",
            "\u001b[1;36mhint\u001b[0m: See above for details.\n"
          ]
        }
      ]
    },
    {
      "cell_type": "code",
      "source": [
        "import nltk\n",
        "import pandas as pd\n",
        "from nltk.corpus import stopwords as nltk_stopwords\n",
        "from sklearn.feature_extraction.text import ENGLISH_STOP_WORDS as sklearn_stopwords\n",
        "nltk_stopwords.words('english')\n",
        "nltk.download('punkt_tab')\n"
      ],
      "metadata": {
        "colab": {
          "base_uri": "https://localhost:8080/"
        },
        "id": "XEwXSkkmNBu5",
        "outputId": "82dabf2a-09d1-434b-fa8a-27f92645026b"
      },
      "execution_count": 59,
      "outputs": [
        {
          "output_type": "stream",
          "name": "stderr",
          "text": [
            "[nltk_data] Downloading package punkt_tab to /root/nltk_data...\n",
            "[nltk_data]   Package punkt_tab is already up-to-date!\n"
          ]
        },
        {
          "output_type": "execute_result",
          "data": {
            "text/plain": [
              "True"
            ]
          },
          "metadata": {},
          "execution_count": 59
        }
      ]
    },
    {
      "cell_type": "code",
      "metadata": {
        "colab": {
          "base_uri": "https://localhost:8080/"
        },
        "id": "7d85adb4",
        "outputId": "6f7035c7-1202-4080-9729-c85160e42fcd"
      },
      "source": [
        "# Combine stopwords into a single set\n",
        "all_stopwords = set(nltk_stopwords.words('english')).union(set(sklearn_stopwords))\n",
        "print(f\"Total number of unique stopwords from NLTK and scikit-learn: {len(all_stopwords)}\")"
      ],
      "execution_count": 60,
      "outputs": [
        {
          "output_type": "stream",
          "name": "stdout",
          "text": [
            "Total number of unique stopwords from NLTK and scikit-learn: 397\n"
          ]
        }
      ]
    },
    {
      "cell_type": "code",
      "source": [
        "from collections import Counter\n",
        "corpus_names = [name for name in dir(nltk.corpus) if not name.startswith('_')]\n",
        "top20 = []\n",
        "results = []\n",
        "\n",
        "for name in corpus_names:\n",
        "    try:\n",
        "        corpus = getattr(nltk.corpus, name)\n",
        "        if hasattr(corpus, 'words'):\n",
        "            raw_count = len(corpus.words())\n",
        "            fil_corpus = [word for word in corpus.words() if word not in all_stopwords]\n",
        "            stop_corp = [word for word in corpus.words() if word in all_stopwords]\n",
        "            counts = Counter(stop_corp)\n",
        "            filtered_count = len(fil_corpus)\n",
        "            top20.append(counts.most_common(20))\n",
        "            results.append({'corpus': name, 'word_count': raw_count, 'word_count_without_stopwords': filtered_count, 'percentage_removed': (1 - (filtered_count / raw_count)) * 100 })\n",
        "    except Exception:\n",
        "        continue  # skip any that fail\n",
        "\n",
        "# Make and display the DataFrame\n",
        "df = pd.DataFrame(results).sort_values(by='word_count', ascending=False)\n",
        "print(df)\n"
      ],
      "metadata": {
        "colab": {
          "base_uri": "https://localhost:8080/"
        },
        "id": "UysK7HJFKzcb",
        "outputId": "d63359ef-5c3f-4211-9eb2-15baaea76499"
      },
      "execution_count": 86,
      "outputs": [
        {
          "output_type": "stream",
          "name": "stdout",
          "text": [
            "                   corpus  word_count  word_count_without_stopwords  \\\n",
            "18                  jeita     3254399                       3250655   \n",
            "15              gutenberg     2621613                       1505565   \n",
            "7                comtrans     1978268                       1643819   \n",
            "31                reuters     1720901                       1258365   \n",
            "22          movie_reviews     1583820                        875409   \n",
            "20             mac_morpho     1170095                        953771   \n",
            "2                   brown     1161192                        674660   \n",
            "23           multext_east     1054921                        955219   \n",
            "48                  udhr2      926859                        883679   \n",
            "32                 semcor      820411                        479739   \n",
            "0                     abc      766811                        470377   \n",
            "9               conll2002      678377                        606108   \n",
            "21            masc_tagged      592536                        375761   \n",
            "47                   udhr      585240                        552477   \n",
            "3                cess_cat      503853                        443160   \n",
            "30              pros_cons      420182                        336460   \n",
            "35            state_union      399822                        228730   \n",
            "49                webtext      396733                        275232   \n",
            "14                genesis      315268                        261219   \n",
            "8               conll2000      259104                        171750   \n",
            "37           subjectivity      240576                        137278   \n",
            "50                  words      236736                        236315   \n",
            "33      sentence_polarity      224073                        128187   \n",
            "12               floresta      211852                        172250   \n",
            "39             swadesh110      202340                        201286   \n",
            "4                cess_esp      192686                        170119   \n",
            "16              inaugural      156288                         79952   \n",
            "10              conll2007      145156                        133510   \n",
            "6   comparative_sentences      142770                         80299   \n",
            "1                  alpino      139820                        125994   \n",
            "40             swadesh207      139672                        139045   \n",
            "5                 cmudict      133737                        133199   \n",
            "46           treebank_raw      101794                         68927   \n",
            "44               treebank      100676                         69400   \n",
            "45         treebank_chunk       94200                         62906   \n",
            "11    dependency_treebank       94084                         62808   \n",
            "34        sinica_treebank       91634                         91634   \n",
            "29      product_reviews_2       84619                         48438   \n",
            "41            switchboard       82792                         49466   \n",
            "28      product_reviews_1       73832                         38300   \n",
            "19                   knbc       66952                         66952   \n",
            "17                 indian       48754                         48754   \n",
            "26               nps_chat       45010                         31301   \n",
            "36              stopwords       11009                         10326   \n",
            "24                  names        7944                          7944   \n",
            "27        opinion_lexicon        6789                          6783   \n",
            "25   nonbreaking_prefixes        5203                          5142   \n",
            "38                swadesh        4935                          4840   \n",
            "42                  timit        1394                           742   \n",
            "13             gazetteers        1211                          1211   \n",
            "43           timit_tagged        1079                           577   \n",
            "\n",
            "    percentage_removed  \n",
            "18            0.115044  \n",
            "15           42.571043  \n",
            "7            16.906152  \n",
            "31           26.877548  \n",
            "22           44.727999  \n",
            "20           18.487730  \n",
            "2            41.899359  \n",
            "23            9.451134  \n",
            "48            4.658745  \n",
            "32           41.524553  \n",
            "0            38.658027  \n",
            "9            10.653221  \n",
            "21           36.584275  \n",
            "47            5.598216  \n",
            "3            12.045775  \n",
            "30           19.925175  \n",
            "35           42.792042  \n",
            "49           30.625383  \n",
            "14           17.143827  \n",
            "8            33.713876  \n",
            "37           42.937783  \n",
            "50            0.177835  \n",
            "33           42.792304  \n",
            "12           18.693239  \n",
            "39            0.520905  \n",
            "4            11.711801  \n",
            "16           48.843161  \n",
            "10            8.023092  \n",
            "6            43.756391  \n",
            "1             9.888428  \n",
            "40            0.448909  \n",
            "5             0.402282  \n",
            "46           32.287758  \n",
            "44           31.065994  \n",
            "45           33.220807  \n",
            "11           33.242634  \n",
            "34            0.000000  \n",
            "29           42.757537  \n",
            "41           40.252681  \n",
            "28           48.125474  \n",
            "19            0.000000  \n",
            "17            0.000000  \n",
            "26           30.457676  \n",
            "36            6.204015  \n",
            "24            0.000000  \n",
            "27            0.088378  \n",
            "25            1.172401  \n",
            "38            1.925025  \n",
            "42           46.771879  \n",
            "13            0.000000  \n",
            "43           46.524560  \n"
          ]
        }
      ]
    },
    {
      "cell_type": "code",
      "source": [
        "df.style.format({'percentage_removed': \"{:.2f}%\", 'word_count_without_stopwords': \"{:,}\", 'word_count': \"{:,}\"})\n",
        "print(df.to_markdown())"
      ],
      "metadata": {
        "colab": {
          "base_uri": "https://localhost:8080/"
        },
        "id": "3FvirhwdPMj4",
        "outputId": "1490288a-766c-4f6e-b0c2-f885e4f09b52"
      },
      "execution_count": 95,
      "outputs": [
        {
          "output_type": "stream",
          "name": "stdout",
          "text": [
            "|    | corpus                |   word_count |   word_count_without_stopwords |   percentage_removed |\n",
            "|---:|:----------------------|-------------:|-------------------------------:|---------------------:|\n",
            "| 18 | jeita                 |      3254399 |                        3250655 |            0.115044  |\n",
            "| 15 | gutenberg             |      2621613 |                        1505565 |           42.571     |\n",
            "|  7 | comtrans              |      1978268 |                        1643819 |           16.9062    |\n",
            "| 31 | reuters               |      1720901 |                        1258365 |           26.8775    |\n",
            "| 22 | movie_reviews         |      1583820 |                         875409 |           44.728     |\n",
            "| 20 | mac_morpho            |      1170095 |                         953771 |           18.4877    |\n",
            "|  2 | brown                 |      1161192 |                         674660 |           41.8994    |\n",
            "| 23 | multext_east          |      1054921 |                         955219 |            9.45113   |\n",
            "| 48 | udhr2                 |       926859 |                         883679 |            4.65875   |\n",
            "| 32 | semcor                |       820411 |                         479739 |           41.5246    |\n",
            "|  0 | abc                   |       766811 |                         470377 |           38.658     |\n",
            "|  9 | conll2002             |       678377 |                         606108 |           10.6532    |\n",
            "| 21 | masc_tagged           |       592536 |                         375761 |           36.5843    |\n",
            "| 47 | udhr                  |       585240 |                         552477 |            5.59822   |\n",
            "|  3 | cess_cat              |       503853 |                         443160 |           12.0458    |\n",
            "| 30 | pros_cons             |       420182 |                         336460 |           19.9252    |\n",
            "| 35 | state_union           |       399822 |                         228730 |           42.792     |\n",
            "| 49 | webtext               |       396733 |                         275232 |           30.6254    |\n",
            "| 14 | genesis               |       315268 |                         261219 |           17.1438    |\n",
            "|  8 | conll2000             |       259104 |                         171750 |           33.7139    |\n",
            "| 37 | subjectivity          |       240576 |                         137278 |           42.9378    |\n",
            "| 50 | words                 |       236736 |                         236315 |            0.177835  |\n",
            "| 33 | sentence_polarity     |       224073 |                         128187 |           42.7923    |\n",
            "| 12 | floresta              |       211852 |                         172250 |           18.6932    |\n",
            "| 39 | swadesh110            |       202340 |                         201286 |            0.520905  |\n",
            "|  4 | cess_esp              |       192686 |                         170119 |           11.7118    |\n",
            "| 16 | inaugural             |       156288 |                          79952 |           48.8432    |\n",
            "| 10 | conll2007             |       145156 |                         133510 |            8.02309   |\n",
            "|  6 | comparative_sentences |       142770 |                          80299 |           43.7564    |\n",
            "|  1 | alpino                |       139820 |                         125994 |            9.88843   |\n",
            "| 40 | swadesh207            |       139672 |                         139045 |            0.448909  |\n",
            "|  5 | cmudict               |       133737 |                         133199 |            0.402282  |\n",
            "| 46 | treebank_raw          |       101794 |                          68927 |           32.2878    |\n",
            "| 44 | treebank              |       100676 |                          69400 |           31.066     |\n",
            "| 45 | treebank_chunk        |        94200 |                          62906 |           33.2208    |\n",
            "| 11 | dependency_treebank   |        94084 |                          62808 |           33.2426    |\n",
            "| 34 | sinica_treebank       |        91634 |                          91634 |            0         |\n",
            "| 29 | product_reviews_2     |        84619 |                          48438 |           42.7575    |\n",
            "| 41 | switchboard           |        82792 |                          49466 |           40.2527    |\n",
            "| 28 | product_reviews_1     |        73832 |                          38300 |           48.1255    |\n",
            "| 19 | knbc                  |        66952 |                          66952 |            0         |\n",
            "| 17 | indian                |        48754 |                          48754 |            0         |\n",
            "| 26 | nps_chat              |        45010 |                          31301 |           30.4577    |\n",
            "| 36 | stopwords             |        11009 |                          10326 |            6.20401   |\n",
            "| 24 | names                 |         7944 |                           7944 |            0         |\n",
            "| 27 | opinion_lexicon       |         6789 |                           6783 |            0.0883783 |\n",
            "| 25 | nonbreaking_prefixes  |         5203 |                           5142 |            1.1724    |\n",
            "| 38 | swadesh               |         4935 |                           4840 |            1.92503   |\n",
            "| 42 | timit                 |         1394 |                            742 |           46.7719    |\n",
            "| 13 | gazetteers            |         1211 |                           1211 |            0         |\n",
            "| 43 | timit_tagged          |         1079 |                            577 |           46.5246    |\n"
          ]
        }
      ]
    },
    {
      "cell_type": "code",
      "source": [
        "print(f'number of corpora in NLTK {len(df)}')\n",
        "print(f'mean percentage removed {round(df[\"percentage_removed\"].mean(),2)}')\n",
        "print(f'word count mean {round(df[\"word_count\"].mean(),2)}')"
      ],
      "metadata": {
        "colab": {
          "base_uri": "https://localhost:8080/"
        },
        "id": "jfR_8zf1RiCT",
        "outputId": "9cbdf0d3-c7e0-46a3-b57b-5f434afe18e3"
      },
      "execution_count": 92,
      "outputs": [
        {
          "output_type": "stream",
          "name": "stdout",
          "text": [
            "number of corpora in NLTK 51\n",
            "mean percentage removed 21.91\n",
            "word count mean 476471.02\n"
          ]
        }
      ]
    },
    {
      "cell_type": "code",
      "source": [
        "from collections import defaultdict\n",
        "word_counts = defaultdict(int)\n",
        "\n",
        "for corpus_top_words in top20:\n",
        "    for word, count in corpus_top_words:\n",
        "        word_counts[word] += count\n",
        "\n",
        "# Convert the dictionary to a DataFrame\n",
        "df_counts = pd.DataFrame(list(word_counts.items()), columns=['word', 'count'])\n"
      ],
      "metadata": {
        "id": "1cYJ9EcG1Is2"
      },
      "execution_count": 82,
      "outputs": []
    },
    {
      "cell_type": "code",
      "source": [
        "# Sort by count and display\n",
        "df_counts = df_counts.sort_values(by='count', ascending=False)\n",
        "# Select the head first, then apply styling\n",
        "styled_df_counts = df_counts.head(20).style.format({'count': \"{:,}\"})\n",
        "display(styled_df_counts)"
      ],
      "metadata": {
        "colab": {
          "base_uri": "https://localhost:8080/",
          "height": 676
        },
        "id": "9y22-EzB2Zcv",
        "outputId": "69fbc954-aba4-410d-d832-e28d8891be17"
      },
      "execution_count": 83,
      "outputs": [
        {
          "output_type": "display_data",
          "data": {
            "text/plain": [
              "<pandas.io.formats.style.Styler at 0x781ddccf9d50>"
            ],
            "text/html": [
              "<style type=\"text/css\">\n",
              "</style>\n",
              "<table id=\"T_8d898\" class=\"dataframe\">\n",
              "  <thead>\n",
              "    <tr>\n",
              "      <th class=\"blank level0\" >&nbsp;</th>\n",
              "      <th id=\"T_8d898_level0_col0\" class=\"col_heading level0 col0\" >word</th>\n",
              "      <th id=\"T_8d898_level0_col1\" class=\"col_heading level0 col1\" >count</th>\n",
              "    </tr>\n",
              "  </thead>\n",
              "  <tbody>\n",
              "    <tr>\n",
              "      <th id=\"T_8d898_level0_row0\" class=\"row_heading level0 row0\" >0</th>\n",
              "      <td id=\"T_8d898_row0_col0\" class=\"data row0 col0\" >the</td>\n",
              "      <td id=\"T_8d898_row0_col1\" class=\"data row0 col1\" >583,580</td>\n",
              "    </tr>\n",
              "    <tr>\n",
              "      <th id=\"T_8d898_level0_row1\" class=\"row_heading level0 row1\" >4</th>\n",
              "      <td id=\"T_8d898_row1_col0\" class=\"data row1 col0\" >a</td>\n",
              "      <td id=\"T_8d898_row1_col1\" class=\"data row1 col1\" >347,732</td>\n",
              "    </tr>\n",
              "    <tr>\n",
              "      <th id=\"T_8d898_level0_row2\" class=\"row_heading level0 row2\" >1</th>\n",
              "      <td id=\"T_8d898_row2_col0\" class=\"data row2 col0\" >of</td>\n",
              "      <td id=\"T_8d898_row2_col1\" class=\"data row2 col1\" >321,415</td>\n",
              "    </tr>\n",
              "    <tr>\n",
              "      <th id=\"T_8d898_level0_row3\" class=\"row_heading level0 row3\" >3</th>\n",
              "      <td id=\"T_8d898_row3_col0\" class=\"data row3 col0\" >and</td>\n",
              "      <td id=\"T_8d898_row3_col1\" class=\"data row3 col1\" >293,456</td>\n",
              "    </tr>\n",
              "    <tr>\n",
              "      <th id=\"T_8d898_level0_row4\" class=\"row_heading level0 row4\" >2</th>\n",
              "      <td id=\"T_8d898_row4_col0\" class=\"data row4 col0\" >to</td>\n",
              "      <td id=\"T_8d898_row4_col1\" class=\"data row4 col1\" >282,264</td>\n",
              "    </tr>\n",
              "    <tr>\n",
              "      <th id=\"T_8d898_level0_row5\" class=\"row_heading level0 row5\" >5</th>\n",
              "      <td id=\"T_8d898_row5_col0\" class=\"data row5 col0\" >in</td>\n",
              "      <td id=\"T_8d898_row5_col1\" class=\"data row5 col1\" >217,607</td>\n",
              "    </tr>\n",
              "    <tr>\n",
              "      <th id=\"T_8d898_level0_row6\" class=\"row_heading level0 row6\" >20</th>\n",
              "      <td id=\"T_8d898_row6_col0\" class=\"data row6 col0\" >de</td>\n",
              "      <td id=\"T_8d898_row6_col1\" class=\"data row6 col1\" >198,037</td>\n",
              "    </tr>\n",
              "    <tr>\n",
              "      <th id=\"T_8d898_level0_row7\" class=\"row_heading level0 row7\" >6</th>\n",
              "      <td id=\"T_8d898_row7_col0\" class=\"data row7 col0\" >is</td>\n",
              "      <td id=\"T_8d898_row7_col1\" class=\"data row7 col1\" >124,672</td>\n",
              "    </tr>\n",
              "    <tr>\n",
              "      <th id=\"T_8d898_level0_row8\" class=\"row_heading level0 row8\" >7</th>\n",
              "      <td id=\"T_8d898_row8_col0\" class=\"data row8 col0\" >that</td>\n",
              "      <td id=\"T_8d898_row8_col1\" class=\"data row8 col1\" >117,080</td>\n",
              "    </tr>\n",
              "    <tr>\n",
              "      <th id=\"T_8d898_level0_row9\" class=\"row_heading level0 row9\" >9</th>\n",
              "      <td id=\"T_8d898_row9_col0\" class=\"data row9 col0\" >for</td>\n",
              "      <td id=\"T_8d898_row9_col1\" class=\"data row9 col1\" >93,184</td>\n",
              "    </tr>\n",
              "    <tr>\n",
              "      <th id=\"T_8d898_level0_row10\" class=\"row_heading level0 row10\" >11</th>\n",
              "      <td id=\"T_8d898_row10_col0\" class=\"data row10 col0\" >it</td>\n",
              "      <td id=\"T_8d898_row10_col1\" class=\"data row10 col1\" >91,011</td>\n",
              "    </tr>\n",
              "    <tr>\n",
              "      <th id=\"T_8d898_level0_row11\" class=\"row_heading level0 row11\" >41</th>\n",
              "      <td id=\"T_8d898_row11_col0\" class=\"data row11 col0\" >o</td>\n",
              "      <td id=\"T_8d898_row11_col1\" class=\"data row11 col1\" >78,672</td>\n",
              "    </tr>\n",
              "    <tr>\n",
              "      <th id=\"T_8d898_level0_row12\" class=\"row_heading level0 row12\" >16</th>\n",
              "      <td id=\"T_8d898_row12_col0\" class=\"data row12 col0\" >with</td>\n",
              "      <td id=\"T_8d898_row12_col1\" class=\"data row12 col1\" >67,409</td>\n",
              "    </tr>\n",
              "    <tr>\n",
              "      <th id=\"T_8d898_level0_row13\" class=\"row_heading level0 row13\" >35</th>\n",
              "      <td id=\"T_8d898_row13_col0\" class=\"data row13 col0\" >as</td>\n",
              "      <td id=\"T_8d898_row13_col1\" class=\"data row13 col1\" >58,344</td>\n",
              "    </tr>\n",
              "    <tr>\n",
              "      <th id=\"T_8d898_level0_row14\" class=\"row_heading level0 row14\" >14</th>\n",
              "      <td id=\"T_8d898_row14_col0\" class=\"data row14 col0\" >on</td>\n",
              "      <td id=\"T_8d898_row14_col1\" class=\"data row14 col1\" >57,387</td>\n",
              "    </tr>\n",
              "    <tr>\n",
              "      <th id=\"T_8d898_level0_row15\" class=\"row_heading level0 row15\" >12</th>\n",
              "      <td id=\"T_8d898_row15_col0\" class=\"data row15 col0\" >be</td>\n",
              "      <td id=\"T_8d898_row15_col1\" class=\"data row15 col1\" >56,757</td>\n",
              "    </tr>\n",
              "    <tr>\n",
              "      <th id=\"T_8d898_level0_row16\" class=\"row_heading level0 row16\" >21</th>\n",
              "      <td id=\"T_8d898_row16_col0\" class=\"data row16 col0\" >was</td>\n",
              "      <td id=\"T_8d898_row16_col1\" class=\"data row16 col1\" >51,592</td>\n",
              "    </tr>\n",
              "    <tr>\n",
              "      <th id=\"T_8d898_level0_row17\" class=\"row_heading level0 row17\" >19</th>\n",
              "      <td id=\"T_8d898_row17_col0\" class=\"data row17 col0\" >he</td>\n",
              "      <td id=\"T_8d898_row17_col1\" class=\"data row17 col1\" >49,513</td>\n",
              "    </tr>\n",
              "    <tr>\n",
              "      <th id=\"T_8d898_level0_row18\" class=\"row_heading level0 row18\" >36</th>\n",
              "      <td id=\"T_8d898_row18_col0\" class=\"data row18 col0\" >his</td>\n",
              "      <td id=\"T_8d898_row18_col1\" class=\"data row18 col1\" >44,172</td>\n",
              "    </tr>\n",
              "    <tr>\n",
              "      <th id=\"T_8d898_level0_row19\" class=\"row_heading level0 row19\" >8</th>\n",
              "      <td id=\"T_8d898_row19_col0\" class=\"data row19 col0\" >s</td>\n",
              "      <td id=\"T_8d898_row19_col1\" class=\"data row19 col1\" >43,418</td>\n",
              "    </tr>\n",
              "  </tbody>\n",
              "</table>\n"
            ]
          },
          "metadata": {}
        }
      ]
    },
    {
      "cell_type": "code",
      "source": [
        "print(df_counts.head(20).to_markdown())"
      ],
      "metadata": {
        "colab": {
          "base_uri": "https://localhost:8080/"
        },
        "id": "hhQWyxQgHV-C",
        "outputId": "45163bb8-cc88-4347-aee4-c9d363a56ecc"
      },
      "execution_count": 94,
      "outputs": [
        {
          "output_type": "stream",
          "name": "stdout",
          "text": [
            "|    | word   |   count |\n",
            "|---:|:-------|--------:|\n",
            "|  0 | the    |  583580 |\n",
            "|  4 | a      |  347732 |\n",
            "|  1 | of     |  321415 |\n",
            "|  3 | and    |  293456 |\n",
            "|  2 | to     |  282264 |\n",
            "|  5 | in     |  217607 |\n",
            "| 20 | de     |  198037 |\n",
            "|  6 | is     |  124672 |\n",
            "|  7 | that   |  117080 |\n",
            "|  9 | for    |   93184 |\n",
            "| 11 | it     |   91011 |\n",
            "| 41 | o      |   78672 |\n",
            "| 16 | with   |   67409 |\n",
            "| 35 | as     |   58344 |\n",
            "| 14 | on     |   57387 |\n",
            "| 12 | be     |   56757 |\n",
            "| 21 | was    |   51592 |\n",
            "| 19 | he     |   49513 |\n",
            "| 36 | his    |   44172 |\n",
            "|  8 | s      |   43418 |\n"
          ]
        }
      ]
    }
  ]
}